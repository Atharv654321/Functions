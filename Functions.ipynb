{
 "cells": [
  {
   "cell_type": "markdown",
   "id": "e06efc6f-87a2-4209-944a-fc1c1f8383b3",
   "metadata": {},
   "source": [
    "1. What is the difference between a function and a method in Python?\n",
    "- A function in Python is a block of reusable code that performs a specific task, defined using the def keyword. Functions can exist independently and do not require an object to be called. They can be called by their name and can accept arguments and return values.\n",
    "- A method, on the other hand, is a function that is associated with an object (an instance of a class). Methods are defined within a class and are called on an object of that class. The first parameter of a method is typically self, which refers to the instance calling the method.\n",
    "\n",
    "2. Explain the concept of function arguments and parameters in Python.\n",
    "- In Python, the terms parameters and arguments are closely related but refer to different aspects of using functions.\n",
    "  Parameters:\n",
    "  Parameters are the variable names defined inside the function’s declaration (the part inside the parentheses of the def statement).\n",
    "  They act as placeholders for the values that the function will receive when it is called.\n",
    "  Arguments:\n",
    "  Arguments are the actual values or data you pass into a function when you call it.\n",
    "\n",
    "3. What are the different ways to define and call a function in Python?\n",
    "-Defining Functions:\n",
    "Use def keyword:\n",
    "def func(params): \n",
    "    pass\n",
    "\n",
    "Default parameters:\n",
    "def func(a, b=2): \n",
    "    pass\n",
    "\n",
    "Variable-length arguments:\n",
    "def func(*args, **kwargs): \n",
    "    pass\n",
    "\n",
    "Lambda (anonymous) functions:\n",
    "f = lambda x: x * x\n",
    "Calling Functions:\n",
    "\n",
    "Positional:\n",
    "func(1, 2)\n",
    "\n",
    "Keyword:\n",
    "func(a=1, b=2)\n",
    "\n",
    "Mix positional and keyword:\n",
    "func(1, b=2)\n",
    "\n",
    "Unpacking from lists/dicts:\n",
    "args = [1, 2]; kwargs = {'b': 2}\n",
    "func(*args, **kwargs)\n",
    "\n",
    "Call lambda:\n",
    "f(5)\n",
    "\n",
    "4. What is the purpose of the `return` statement in a Python function?\n",
    "-The purpose of the return statement in a Python function is to:\n",
    " Exit the function immediately when the return statement is executed.\n",
    " Send a value back to the caller of the function. This value can be of any type, such as numbers, strings, lists, dictionaries, or even other functions.\n",
    " If no return statement is specified, or if it is used without a value, the function returns None by default.\n",
    " The return statement enables you to capture the result of a function and use it elsewhere in your code, which is essential for creating reusable and    modular programs.\n",
    "\n",
    "5. What are iterators in Python and how do they differ from iterables?\n",
    "-Iterators in Python are objects that allow you to traverse through all the elements of a collection, one element at a time. They must implement the iterator protocol, which means they provide two methods:\n",
    " __iter__(): Returns the iterator object itself.\n",
    " __next__(): Returns the next item from the collection; raises StopIteration when there's no item left.\n",
    " Iterables are objects capable of returning their members one at a time. Common iterables include lists, tuples, dictionaries, sets, and strings. An     iterable only needs to implement the __iter__() method, which returns an iterator, or the older __getitem__() method with sequential indexes\n",
    "\n",
    "6. Explain the concept of generators in Python and how they are defined.\n",
    "-A generator in Python is a special type of function that allows you to yield values one at a time, producing a sequence lazily (on demand), rather      than computing and storing all values at once. Generators are memory efficient, especially useful for working with large datasets or infinite           sequences, as they generate items only as you need them rather than holding everything in memory. \n",
    " Generator Functions\n",
    " Defined like normal functions using the def keyword.\n",
    " Use the yield statement instead of return. Each time the function encounters a yield, it pauses execution and sends a value back to the caller, saving  its state so it can continue where it left off on the next call.\n",
    "\n",
    "7. What are the advantages of using generators over regular functions?\n",
    "-Generators offer several key advantages over regular functions (that return lists or other collections) in Python:\n",
    " Memory Efficiency: Generators yield items one at a time and don’t store the entire sequence in memory. This lets you process large or infinite         sequences without consuming large amounts of RAM, unlike regular functions that create and return a complete list.\n",
    " Lazy Evaluation: Generators produce values only when requested (on-the-fly), allowing for efficient looping and early exit, since unused items are    never computed.\n",
    " Convenience for Iteration: Generators provide a concise and readable way to write iterators. Their code is simpler and more natural than implementing a full iterator class with __iter__() and __next__() methods.\n",
    " Improved Performance: Since generators yield items as needed, there’s less initial computation and waiting time, especially when only part of the sequence is required.\n",
    " Infinite Sequences: Generators allow for the creation and iteration of infinite streams of data (such as sensor readings, prime numbers, etc.), something regular functions can’t do.\n",
    "\n",
    "8. What is a lambda function in Python and when is it typically used?\n",
    "-A lambda function in Python is a small, anonymous (unnamed) function defined using the lambda keyword. Lambda functions can take any number of          arguments but are limited to a single expression. The result of that expression is automatically returned, so no return statement is required\n",
    " Typical Uses of Lambda Functions\n",
    " Short-lived, throwaway functions: Lambdas are used when a simple function is needed for a brief period and defining a full function with def would be   verbose.\n",
    " As arguments to higher-order functions: Commonly used with built-in functions like map(), filter(), and reduce():\n",
    " In sorting and data processing: Used as key functions (e.g., sorting a list of tuples by the second item: sorted(items, key=lambda x: x[1])).\n",
    " Defining simple operations inline: Like incrementing, basic math, or string manipulation when a simple transformation is needed.\n",
    "\n",
    "9. Explain the purpose and usage of the `map()` function in Python.\n",
    "-The map() function in Python is a built-in utility that allows you to apply a specified function to each item in an iterable (such as a list, tuple,    or string) and returns an iterator (map object) that produces the transformed items on demand. This makes repetitive data transformations or element-   wise operations concise, readable, and efficient compared to traditional loops.\n",
    " Purpose of map()\n",
    " Automates the process of applying a function to every element in an iterable.\n",
    " Eliminates the need for explicit loops, resulting in cleaner and more maintainable code.\n",
    " Useful for tasks like type conversions, mathematical operations, or any predictable transformation of data in a collection.\n",
    " Usage and Syntax\n",
    " Basic Syntax:\n",
    " function: A function object (can be a built-in function, lambda, or user-defined function) that processes each element.\n",
    " iterable: Any iterable object (list, tuple, string, etc). You can also provide multiple iterables if your function accepts multiple arguments.\n",
    " The result is a map object (an iterator). To view or use the results immediately, convert it to a list, tuple, or another sequence type.\n",
    "\n",
    "10. What is the difference between `map()`, `reduce()`, and `filter()` functions in Python?\n",
    "-The map(), filter(), and reduce() functions in Python are foundational tools for functional programming, letting you process and transform iterables    in distinct ways:\n",
    " map()\n",
    " Purpose: Transforms every element in an iterable by applying a given function to each item.\n",
    " Return Value: An iterator with each item transformed.\n",
    " Typical Use Case: When you want to modify or compute something for every element.\n",
    " Key Point: Output length always matches input.\n",
    " filter()\n",
    " Purpose: Selects elements from an iterable that satisfy a condition (function returns True).\n",
    " Return Value: An iterator with only the elements where the condition is met.\n",
    " Typical Use Case: When you want to extract a subset of elements based on some criteria.\n",
    " Key Point: Output may have fewer elements than input.\n",
    " reduce()\n",
    " Purpose: Combines all elements of an iterable into a single result by cumulatively applying a function.\n",
    " Return Value: A single value, not a list.\n",
    " Typical Use Case: For aggregations like summing or multiplying all items.\n",
    "\n"
   ]
  },
  {
   "cell_type": "markdown",
   "id": "4541cdb9-4450-40b9-9d24-045b43332833",
   "metadata": {},
   "source": [
    "# 1. Write a Python function that takes a list of numbers as input and returns the sum of all even numbers in the list."
   ]
  },
  {
   "cell_type": "code",
   "execution_count": 4,
   "id": "6dc6c5be-efb3-4fee-b588-cd901df0d273",
   "metadata": {},
   "outputs": [
    {
     "name": "stdout",
     "output_type": "stream",
     "text": [
      "12\n"
     ]
    }
   ],
   "source": [
    "def sum_even_numbers(numbers):\n",
    "    return sum(num for num in numbers if num % 2 == 0)\n",
    "\n",
    "nums = [1, 2, 3, 4, 5, 6]\n",
    "result = sum_even_numbers(nums)\n",
    "print(result)  \n"
   ]
  },
  {
   "cell_type": "markdown",
   "id": "b5f733c0-2c27-4eef-8111-9f7f11557393",
   "metadata": {},
   "source": [
    "#  2. Create a Python function that accepts a string and returns the reverse of that string.\n"
   ]
  },
  {
   "cell_type": "code",
   "execution_count": 7,
   "id": "790fd541-85ce-450c-a6f5-2ad797a0f57b",
   "metadata": {},
   "outputs": [
    {
     "name": "stdout",
     "output_type": "stream",
     "text": [
      "olleh\n"
     ]
    }
   ],
   "source": [
    "def reverse_string(s):\n",
    "    return s[::-1]\n",
    "text = \"hello\"\n",
    "reversed_text = reverse_string(text)\n",
    "print(reversed_text)  \n"
   ]
  },
  {
   "cell_type": "markdown",
   "id": "ca660f62-48e9-4310-8b7b-293e1c126dec",
   "metadata": {},
   "source": [
    "# 3. Implement a Python function that takes a list of integers and returns a new list containing the squares of each number."
   ]
  },
  {
   "cell_type": "code",
   "execution_count": 10,
   "id": "bbd7fe32-607d-40db-a126-ecb99d4844e2",
   "metadata": {},
   "outputs": [
    {
     "name": "stdout",
     "output_type": "stream",
     "text": [
      "[1, 4, 9, 16]\n"
     ]
    }
   ],
   "source": [
    "def square_numbers(numbers):\n",
    "    return [num ** 2 for num in numbers]\n",
    "nums = [1, 2, 3, 4]\n",
    "squared_nums = square_numbers(nums)\n",
    "print(squared_nums) \n"
   ]
  },
  {
   "cell_type": "markdown",
   "id": "51f39a38-80f5-4392-a6a4-19d6d72a5a6e",
   "metadata": {},
   "source": [
    "#  4. Write a Python function that checks if a given number is prime or not from 1 to 200.\n"
   ]
  },
  {
   "cell_type": "code",
   "execution_count": 13,
   "id": "7a0460f1-2a48-4ae3-8516-550a5dfdbca8",
   "metadata": {},
   "outputs": [
    {
     "name": "stdout",
     "output_type": "stream",
     "text": [
      "2 is prime\n",
      "3 is prime\n",
      "5 is prime\n",
      "7 is prime\n",
      "11 is prime\n",
      "13 is prime\n",
      "17 is prime\n",
      "19 is prime\n",
      "23 is prime\n",
      "29 is prime\n",
      "31 is prime\n",
      "37 is prime\n",
      "41 is prime\n",
      "43 is prime\n",
      "47 is prime\n",
      "53 is prime\n",
      "59 is prime\n",
      "61 is prime\n",
      "67 is prime\n",
      "71 is prime\n",
      "73 is prime\n",
      "79 is prime\n",
      "83 is prime\n",
      "89 is prime\n",
      "97 is prime\n",
      "101 is prime\n",
      "103 is prime\n",
      "107 is prime\n",
      "109 is prime\n",
      "113 is prime\n",
      "127 is prime\n",
      "131 is prime\n",
      "137 is prime\n",
      "139 is prime\n",
      "149 is prime\n",
      "151 is prime\n",
      "157 is prime\n",
      "163 is prime\n",
      "167 is prime\n",
      "173 is prime\n",
      "179 is prime\n",
      "181 is prime\n",
      "191 is prime\n",
      "193 is prime\n",
      "197 is prime\n",
      "199 is prime\n"
     ]
    }
   ],
   "source": [
    "def is_prime(n):\n",
    "    if n < 2 or n > 200:\n",
    "        return False \n",
    "    for i in range(2, int(n ** 0.5) + 1):\n",
    "        if n % i == 0:\n",
    "            return False\n",
    "    return True\n",
    "\n",
    "for num in range(1, 201):\n",
    "    if is_prime(num):\n",
    "        print(num, \"is prime\")\n"
   ]
  },
  {
   "cell_type": "markdown",
   "id": "eabadf71-2a5f-405a-9495-c30b9c9b004f",
   "metadata": {},
   "source": [
    "# 5. Create an iterator class in Python that generates the Fibonacci sequence up to a specified number of terms."
   ]
  },
  {
   "cell_type": "code",
   "execution_count": 18,
   "id": "7f74f837-6a7d-448e-a5b9-eda5beb12217",
   "metadata": {},
   "outputs": [
    {
     "name": "stdout",
     "output_type": "stream",
     "text": [
      "0\n",
      "1\n",
      "1\n",
      "2\n",
      "3\n",
      "5\n",
      "8\n",
      "13\n",
      "21\n",
      "34\n"
     ]
    }
   ],
   "source": [
    "class FibonacciIterator:\n",
    "    def __init__(self, n_terms):\n",
    "        self.n_terms = n_terms\n",
    "        self.index = 0\n",
    "        self.a, self.b = 0, 1  \n",
    "\n",
    "    def __iter__(self):\n",
    "        return self\n",
    "\n",
    "    def __next__(self):\n",
    "        if self.index >= self.n_terms:\n",
    "            raise StopIteration\n",
    "        if self.index == 0:\n",
    "            self.index += 1\n",
    "            return 0\n",
    "        elif self.index == 1:\n",
    "            self.index += 1\n",
    "            return 1\n",
    "        else:\n",
    "            fib = self.a + self.b\n",
    "            self.a, self.b = self.b, fib\n",
    "            self.index += 1\n",
    "            return fib\n",
    "\n",
    "fib_iter = FibonacciIterator(10)\n",
    "for num in fib_iter:\n",
    "    print(num)\n",
    "\n"
   ]
  },
  {
   "cell_type": "markdown",
   "id": "b5218b5b-30ba-4ed8-b634-1f8c5c0da591",
   "metadata": {},
   "source": [
    "# 6. Write a generator function in Python that yields the powers of 2 up to a given exponent."
   ]
  },
  {
   "cell_type": "code",
   "execution_count": 21,
   "id": "4dd57886-7946-44c2-9ebb-bedb546c1c90",
   "metadata": {},
   "outputs": [
    {
     "name": "stdout",
     "output_type": "stream",
     "text": [
      "1\n",
      "2\n",
      "4\n",
      "8\n",
      "16\n",
      "32\n"
     ]
    }
   ],
   "source": [
    "def powers_of_two(max_exponent):\n",
    "    for exponent in range(max_exponent + 1):\n",
    "        yield 2 ** exponent\n",
    "\n",
    "for value in powers_of_two(5):\n",
    "    print(value)\n"
   ]
  },
  {
   "cell_type": "markdown",
   "id": "328d6943-bc1d-4c9e-b646-041d3dded8e7",
   "metadata": {},
   "source": [
    "#  7. Implement a generator function that reads a file line by line and yields each line as a string."
   ]
  },
  {
   "cell_type": "code",
   "execution_count": 26,
   "id": "6600b991-951d-4e4f-8bdd-57b496abf252",
   "metadata": {},
   "outputs": [],
   "source": [
    "def read_file_line_by_line(file_path):\n",
    "    with open(file_path, 'r') as file:\n",
    "        for line in file:\n",
    "            yield line.rstrip('\\n')"
   ]
  },
  {
   "cell_type": "markdown",
   "id": "71e7be11-bba1-4d42-b44e-7a1d78655693",
   "metadata": {},
   "source": [
    "#  8. Use a lambda function in Python to sort a list of tuples based on the second element of each tuple.\n"
   ]
  },
  {
   "cell_type": "code",
   "execution_count": 29,
   "id": "cc59688e-629c-4204-9402-1ed85e90a43c",
   "metadata": {},
   "outputs": [
    {
     "name": "stdout",
     "output_type": "stream",
     "text": [
      "[(4, 1), (5, 2), (1, 3), (2, 4)]\n"
     ]
    }
   ],
   "source": [
    "data = [(1, 3), (4, 1), (5, 2), (2, 4)]\n",
    "sorted_data = sorted(data, key=lambda x: x[1])\n",
    "print(sorted_data)\n"
   ]
  },
  {
   "cell_type": "markdown",
   "id": "0311b9bb-2177-431c-80d3-d92408fb7b4a",
   "metadata": {},
   "source": [
    "#  9. Write a Python program that uses `map()` to convert a list of temperatures from Celsius to Fahrenheit.\n"
   ]
  },
  {
   "cell_type": "code",
   "execution_count": 32,
   "id": "5a3df945-d473-4cf7-89be-e59f5c455d50",
   "metadata": {},
   "outputs": [
    {
     "name": "stdout",
     "output_type": "stream",
     "text": [
      "[32.0, 68.0, 98.6, 212.0]\n"
     ]
    }
   ],
   "source": [
    "def celsius_to_fahrenheit(c):\n",
    "    return (c * 9/5) + 32\n",
    "\n",
    "celsius_temps = [0, 20, 37, 100]\n",
    "fahrenheit_temps = list(map(celsius_to_fahrenheit, celsius_temps))\n",
    "print(fahrenheit_temps)\n"
   ]
  },
  {
   "cell_type": "markdown",
   "id": "651156c6-bb73-462c-8e66-c7f6848227f5",
   "metadata": {},
   "source": [
    "#  10. Create a Python program that uses `filter()` to remove all the vowels from a given string.\n"
   ]
  },
  {
   "cell_type": "code",
   "execution_count": 35,
   "id": "7803e32f-dba9-4549-bc21-28704ea462f1",
   "metadata": {},
   "outputs": [
    {
     "name": "stdout",
     "output_type": "stream",
     "text": [
      "Hll, Wrld!\n"
     ]
    }
   ],
   "source": [
    "def remove_vowels(s):\n",
    "    vowels = \"aeiouAEIOU\"\n",
    "    return ''.join(filter(lambda char: char not in vowels, s))\n",
    "input_str = \"Hello, World!\"\n",
    "result = remove_vowels(input_str)\n",
    "print(result)  \n"
   ]
  },
  {
   "cell_type": "code",
   "execution_count": null,
   "id": "9eb11271-1b62-43b4-a54e-90b413d9998c",
   "metadata": {},
   "outputs": [],
   "source": []
  }
 ],
 "metadata": {
  "kernelspec": {
   "display_name": "Python 3 (ipykernel)",
   "language": "python",
   "name": "python3"
  },
  "language_info": {
   "codemirror_mode": {
    "name": "ipython",
    "version": 3
   },
   "file_extension": ".py",
   "mimetype": "text/x-python",
   "name": "python",
   "nbconvert_exporter": "python",
   "pygments_lexer": "ipython3",
   "version": "3.12.7"
  }
 },
 "nbformat": 4,
 "nbformat_minor": 5
}
